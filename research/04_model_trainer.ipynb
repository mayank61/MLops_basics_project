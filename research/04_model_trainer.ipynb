{
 "cells": [
  {
   "cell_type": "code",
   "execution_count": 1,
   "id": "f1f08530",
   "metadata": {},
   "outputs": [
    {
     "data": {
      "text/plain": [
       "'c:\\\\Project\\\\MLops_basics_project\\\\research'"
      ]
     },
     "execution_count": 1,
     "metadata": {},
     "output_type": "execute_result"
    }
   ],
   "source": [
    "import os\n",
    "%pwd"
   ]
  },
  {
   "cell_type": "code",
   "execution_count": null,
   "id": "9f1ac33e",
   "metadata": {},
   "outputs": [],
   "source": []
  },
  {
   "cell_type": "code",
   "execution_count": 2,
   "id": "e21ba1d8",
   "metadata": {},
   "outputs": [],
   "source": [
    "os.chdir('../')"
   ]
  },
  {
   "cell_type": "code",
   "execution_count": 3,
   "id": "47526982",
   "metadata": {},
   "outputs": [
    {
     "data": {
      "text/plain": [
       "'c:\\\\Project\\\\MLops_basics_project'"
      ]
     },
     "execution_count": 3,
     "metadata": {},
     "output_type": "execute_result"
    }
   ],
   "source": [
    "%pwd"
   ]
  },
  {
   "cell_type": "code",
   "execution_count": 4,
   "id": "f2d1439b",
   "metadata": {},
   "outputs": [],
   "source": [
    "from dataclasses import dataclass\n",
    "from pathlib import Path\n",
    "@dataclass(frozen=True)\n",
    "class ModelTrainerConfig:\n",
    "    root_dir: Path\n",
    "    train_data_path: Path\n",
    "    test_data_path: Path\n",
    "    model_name: str\n",
    "    alpha: float\n",
    "    l1_ratio: float \n",
    "    target_column : str\n",
    "\n"
   ]
  },
  {
   "cell_type": "code",
   "execution_count": 5,
   "id": "38966de9",
   "metadata": {},
   "outputs": [],
   "source": [
    "from src.mlProject.constants import *\n",
    "from src.mlProject.utils.common import read_yaml,create_directories\n"
   ]
  },
  {
   "cell_type": "code",
   "execution_count": null,
   "id": "e5c2dfbf",
   "metadata": {},
   "outputs": [],
   "source": []
  },
  {
   "cell_type": "code",
   "execution_count": 6,
   "id": "a19807a0",
   "metadata": {},
   "outputs": [],
   "source": [
    "class ConfigurationManager:\n",
    "    def __init__(self,config_filepath=CONFIG_FILE_PATH,\n",
    "                 params_filepath=PARAMS_FILE_PATH,\n",
    "                 schema_filepath=SCHEMA_FILE_PATH):\n",
    "        \n",
    "        self.config=read_yaml(config_filepath)\n",
    "        self.params=read_yaml(params_filepath)\n",
    "        self.schema=read_yaml(schema_filepath)\n",
    "        create_directories([self.config.artifacts_root])\n",
    "    def get_model_trainer_config(self)-> ModelTrainerConfig:\n",
    "        config=self.config.model_trainer\n",
    "        params=self.params.ElasticNet\n",
    "        schema=self.schema.TARGET_COLUMN\n",
    "         \n",
    "        create_directories([config.root_dir])\n",
    "        model_trainer_config=ModelTrainerConfig(root_dir=config.root_dir,train_data_path=config.train_data_path,\n",
    "                                                test_data_path=config.test_data_path,\n",
    "                                                model_name=config.model_name,\n",
    "                                                alpha=params.alpha,\n",
    "                                                l1_ratio=params.l1_ratio,\n",
    "                                                target_column=schema.name\n",
    "                                                )\n",
    "        return model_trainer_config\n",
    "\n",
    "\n",
    "\n",
    "\n"
   ]
  },
  {
   "cell_type": "code",
   "execution_count": 11,
   "id": "bddf0c46",
   "metadata": {},
   "outputs": [],
   "source": [
    "from box import ConfigBox"
   ]
  },
  {
   "cell_type": "code",
   "execution_count": 12,
   "id": "f6f9c75c",
   "metadata": {},
   "outputs": [
    {
     "name": "stdout",
     "output_type": "stream",
     "text": [
      "Name: python-box\n",
      "Version: 7.3.2\n",
      "Summary: Advanced Python dictionaries with dot notation access\n",
      "Home-page: https://github.com/cdgriffith/Box\n",
      "Author: Chris Griffith\n",
      "Author-email: chris@cdgriffith.com\n",
      "License: MIT\n",
      "Location: C:\\Users\\Mayank\\anaconda3\\Lib\\site-packages\n",
      "Requires: \n",
      "Required-by: \n"
     ]
    }
   ],
   "source": [
    "!pip show python-box\n"
   ]
  },
  {
   "cell_type": "code",
   "execution_count": 14,
   "id": "f6b8b301",
   "metadata": {},
   "outputs": [
    {
     "data": {
      "text/plain": [
       "' \\njoblib is a Python library used for efficiently serializing (saving) and deserializing (loading) Python objects, especially large data like NumPy arrays and machine learning models. It is commonly used in machine learning workflows to save trained models to disk and load them later for inference or further training.\\n\\nKey uses:\\n\\nSave and load scikit-learn models (joblib.dump, joblib.load)\\nFaster than pickle for large numerical data\\n'"
      ]
     },
     "execution_count": 14,
     "metadata": {},
     "output_type": "execute_result"
    }
   ],
   "source": [
    "import pandas as pd\n",
    "import os\n",
    "from src.mlProject import logger\n",
    "from sklearn.linear_model import ElasticNet\n",
    "import joblib\n",
    "\n",
    "\"\"\" \n",
    "joblib is a Python library used for efficiently serializing (saving) and deserializing (loading) Python objects, especially large data like NumPy arrays and machine learning models. It is commonly used in machine learning workflows to save trained models to disk and load them later for inference or further training.\n",
    "\n",
    "Key uses:\n",
    "\n",
    "Save and load scikit-learn models (joblib.dump, joblib.load)\n",
    "Faster than pickle for large numerical data\n",
    "\"\"\""
   ]
  },
  {
   "cell_type": "code",
   "execution_count": 17,
   "id": "390d717b",
   "metadata": {},
   "outputs": [],
   "source": [
    "class ModelTrainer:\n",
    "    def __init__(self,config: ModelTrainerConfig):\n",
    "        self.config=config\n",
    "    def train(self):\n",
    "        train_data=pd.read_csv(self.config.train_data_path)\n",
    "        test_data=pd.read_csv(self.config.test_data_path)\n",
    "        train_x=train_data.drop([self.config.target_column],axis=1)\n",
    "        test_x=test_data.drop([self.config.target_column],axis=1)\n",
    "        train_y=train_data[[self.config.target_column]]\n",
    "        test_y=test_data[[self.config.target_column]]\n",
    "        lr=ElasticNet(alpha=self.config.alpha,l1_ratio=self.config.l1_ratio,random_state=42)\n",
    "        lr.fit(train_x,train_y)\n",
    "        joblib.dump(lr,os.path.join(self.config.root_dir,self.config.model_name))\n",
    "        "
   ]
  },
  {
   "cell_type": "code",
   "execution_count": 18,
   "id": "05ac689b",
   "metadata": {},
   "outputs": [
    {
     "name": "stdout",
     "output_type": "stream",
     "text": [
      "[2025-08-09 12:39:52,251: INFO: common: yaml file: C:\\Project\\MLops_basics_project\\config\\config.yaml loaded successfully]\n",
      "[2025-08-09 12:39:52,253: INFO: common: yaml file: C:\\Project\\MLops_basics_project\\params.yaml loaded successfully]\n",
      "[2025-08-09 12:39:52,257: INFO: common: yaml file: C:\\Project\\MLops_basics_project\\schema.yaml loaded successfully]\n",
      "[2025-08-09 12:39:52,258: INFO: common: created directory at: artifacts]\n",
      "[2025-08-09 12:39:52,260: INFO: common: created directory at: artifacts/model_trainer/]\n"
     ]
    }
   ],
   "source": [
    "try:\n",
    "    config=ConfigurationManager()\n",
    "    model_trainer_config=config.get_model_trainer_config()\n",
    "    model_trainer_config=ModelTrainer(config=model_trainer_config)\n",
    "    model_trainer_config.train()\n",
    "except Exception as e:\n",
    "    raise e"
   ]
  },
  {
   "cell_type": "code",
   "execution_count": null,
   "id": "8225e7f5",
   "metadata": {},
   "outputs": [],
   "source": []
  }
 ],
 "metadata": {
  "kernelspec": {
   "display_name": "base",
   "language": "python",
   "name": "python3"
  },
  "language_info": {
   "codemirror_mode": {
    "name": "ipython",
    "version": 3
   },
   "file_extension": ".py",
   "mimetype": "text/x-python",
   "name": "python",
   "nbconvert_exporter": "python",
   "pygments_lexer": "ipython3",
   "version": "3.12.7"
  }
 },
 "nbformat": 4,
 "nbformat_minor": 5
}
