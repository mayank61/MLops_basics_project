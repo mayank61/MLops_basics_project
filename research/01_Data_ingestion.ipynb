{
 "cells": [
  {
   "cell_type": "code",
   "execution_count": null,
   "id": "54b521f7",
   "metadata": {},
   "outputs": [],
   "source": [
    "# Data ingestion in MLOps is the process of collecting, \n",
    "# importing, and preparing raw data from various sources \n",
    "# (databases, files, APIs, etc.) \n",
    "# so it can be used for machine learning workflows.\n",
    "#  It is the first step in the ML pipeline, \n",
    "# ensuring that data is available, accessible, and in the right format\n",
    "#  for further processing, training, and evaluation.\n",
    "#  Data ingestion often includes tasks like validation, cleaning, and \n",
    "# transformation."
   ]
  },
  {
   "cell_type": "code",
   "execution_count": 2,
   "id": "6e681f37",
   "metadata": {},
   "outputs": [],
   "source": [
    "import os\n"
   ]
  },
  {
   "cell_type": "code",
   "execution_count": 3,
   "id": "b0001b69",
   "metadata": {},
   "outputs": [
    {
     "data": {
      "text/plain": [
       "'c:\\\\Project\\\\MLops_basics_project\\\\research'"
      ]
     },
     "execution_count": 3,
     "metadata": {},
     "output_type": "execute_result"
    }
   ],
   "source": [
    "%pwd"
   ]
  },
  {
   "cell_type": "code",
   "execution_count": 4,
   "id": "4dca6284",
   "metadata": {},
   "outputs": [],
   "source": [
    "os.chdir('../')"
   ]
  },
  {
   "cell_type": "code",
   "execution_count": 16,
   "id": "fe3c7e24",
   "metadata": {},
   "outputs": [],
   "source": [
    "import os\n",
    "from box.exceptions import BoxValueError\n",
    "import yaml\n",
    "from mlProject import logger\n",
    "import json\n",
    "import joblib\n",
    "from ensure import ensure_annotations\n",
    "from box import ConfigBox\n",
    "from pathlib import Path\n",
    "from typing import Any"
   ]
  },
  {
   "cell_type": "code",
   "execution_count": null,
   "id": "1cf747e6",
   "metadata": {},
   "outputs": [],
   "source": []
  },
  {
   "cell_type": "code",
   "execution_count": 7,
   "id": "bebe6888",
   "metadata": {},
   "outputs": [],
   "source": [
    "from dataclasses import dataclass\n",
    "from pathlib import Path\n",
    "\n",
    "\n",
    "@dataclass(frozen=True)\n",
    "class DataIngestionConfig:\n",
    "    root_dir:Path\n",
    "    source_URL:str\n",
    "    local_data_file:Path\n",
    "    unzip_dir:Path\n"
   ]
  },
  {
   "cell_type": "code",
   "execution_count": 8,
   "id": "31e3a5b7",
   "metadata": {},
   "outputs": [
    {
     "name": "stderr",
     "output_type": "stream",
     "text": [
      "c:\\project\\mlops_basics_project\\src\\mlProject\\constants\\__init__.py:2: SyntaxWarning: invalid escape sequence '\\P'\n",
      "  CONFIG_FILE_PATH=Path('C:\\Project\\MLops_basics_project\\config\\config.yaml')\n",
      "c:\\project\\mlops_basics_project\\src\\mlProject\\constants\\__init__.py:3: SyntaxWarning: invalid escape sequence '\\P'\n",
      "  PARAMS_FILE_PATH=Path('C:\\Project\\MLops_basics_project\\params.yaml')\n",
      "c:\\project\\mlops_basics_project\\src\\mlProject\\constants\\__init__.py:4: SyntaxWarning: invalid escape sequence '\\P'\n",
      "  SCHEMA_FILE_PATH=Path('C:\\Project\\MLops_basics_project\\schema.yaml')\n"
     ]
    }
   ],
   "source": [
    "from mlProject.constants import *\n",
    "from mlProject.utils.common import read_yaml,create_directories"
   ]
  },
  {
   "cell_type": "code",
   "execution_count": 10,
   "id": "2c68c96e",
   "metadata": {},
   "outputs": [],
   "source": [
    "class ConfigurationManager:\n",
    "    def __init__(self,config_filepath=CONFIG_FILE_PATH,\n",
    "                 params_filepath=PARAMS_FILE_PATH,\n",
    "                 schema_filepath=SCHEMA_FILE_PATH):\n",
    "        self.config=read_yaml(config_filepath)\n",
    "        self.params=read_yaml(params_filepath)\n",
    "        self.schema=read_yaml(schema_filepath)\n",
    "        create_directories([self.config.artifacts_root])\n",
    "    \n",
    "    def get_data_ingestion_config(self)->DataIngestionConfig:\n",
    "        config=self.config.data_ingestion\n",
    "        create_directories([config.root_dir])\n",
    "        data_ingestion_config=DataIngestionConfig(root_dir=config.root_dir,\n",
    "                                                  source_URL=config.source_URL,\n",
    "                                                  local_data_file=config.local_data_file,\n",
    "                                                  unzip_dir=config.unzip_dir)\n",
    "        return data_ingestion_config\n"
   ]
  },
  {
   "cell_type": "code",
   "execution_count": 11,
   "id": "5c96d0b9",
   "metadata": {},
   "outputs": [],
   "source": [
    "import os\n",
    "import urllib.request as request\n",
    "import zipfile\n",
    "from mlProject import logger\n",
    "from mlProject.utils.common import get_size\n"
   ]
  },
  {
   "cell_type": "code",
   "execution_count": 13,
   "id": "2249c41e",
   "metadata": {},
   "outputs": [],
   "source": [
    "class DataIngestion:\n",
    "    def __init__(self,config:DataIngestionConfig):\n",
    "        self.config=config\n",
    "    \n",
    "    def download_file(self):\n",
    "        if not os.path.exists(self.config.local_data_file):\n",
    "            filename,headers=request.urlretrieve(url=self.config.source_URL,\n",
    "                                                 filename=self.config.local_data_file)\n",
    "            logger.info(f\"{filename} downloaded with following info:\\n {headers}\")\n",
    "        else:\n",
    "            logger.info(f\"file already exsits  of size {get_size(Path(self.config.local_data_file))}\")\n",
    "    def extract_zip_file(self):\n",
    "        unzip_path=self.config.unzip_dir\n",
    "        with zipfile.ZipFile(self.config.local_data_file,'r') as zip_ref:\n",
    "            zip_ref.extractall(unzip_path)\n",
    "            \n",
    "        "
   ]
  },
  {
   "cell_type": "code",
   "execution_count": 14,
   "id": "4bdb5955",
   "metadata": {},
   "outputs": [
    {
     "name": "stdout",
     "output_type": "stream",
     "text": [
      "[2025-07-28 23:39:49,517: INFO: common: yaml file: C:\\Project\\MLops_basics_project\\config\\config.yaml loaded successfully]\n",
      "[2025-07-28 23:39:49,522: INFO: common: yaml file: C:\\Project\\MLops_basics_project\\params.yaml loaded successfully]\n",
      "[2025-07-28 23:39:49,524: INFO: common: yaml file: C:\\Project\\MLops_basics_project\\schema.yaml loaded successfully]\n",
      "[2025-07-28 23:39:49,525: INFO: common: created directory at: artifacts]\n",
      "[2025-07-28 23:39:49,527: INFO: common: created directory at: artifacts/data_ingestion]\n",
      "[2025-07-28 23:39:49,529: INFO: 1371221901: file already exsits  of size ~ 23 KB]\n"
     ]
    }
   ],
   "source": [
    "try:\n",
    "    config=ConfigurationManager()\n",
    "    data_ingestion_config=config.get_data_ingestion_config()\n",
    "    data_ingestion=DataIngestion(config=data_ingestion_config)\n",
    "    data_ingestion.download_file()\n",
    "    data_ingestion.extract_zip_file()\n",
    "except Exception as e:\n",
    "   raise e\n",
    "    "
   ]
  },
  {
   "cell_type": "code",
   "execution_count": null,
   "id": "486ac80a",
   "metadata": {},
   "outputs": [],
   "source": []
  }
 ],
 "metadata": {
  "kernelspec": {
   "display_name": "pytorchenv",
   "language": "python",
   "name": "python3"
  },
  "language_info": {
   "codemirror_mode": {
    "name": "ipython",
    "version": 3
   },
   "file_extension": ".py",
   "mimetype": "text/x-python",
   "name": "python",
   "nbconvert_exporter": "python",
   "pygments_lexer": "ipython3",
   "version": "3.12.8"
  }
 },
 "nbformat": 4,
 "nbformat_minor": 5
}
